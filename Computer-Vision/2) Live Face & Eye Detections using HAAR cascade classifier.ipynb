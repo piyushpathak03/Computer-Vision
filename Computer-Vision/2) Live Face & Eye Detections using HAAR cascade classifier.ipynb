{
 "cells": [
  {
   "cell_type": "markdown",
   "metadata": {},
   "source": [
    "# HAAR Cascade Classifiers\n",
    "Object Detection using Haar feature-based cascade classifiers is an effective object detection method. It is a machine learning based approach where a cascade function is trained from a lot of positive and negative images. It is then used to detect objects in other images.\n",
    "\n",
    "for more details refer this link\n"
   ]
  },
  {
   "cell_type": "markdown",
   "metadata": {},
   "source": [
    "https://docs.opencv.org/3.4/db/d28/tutorial_cascade_classifier.html"
   ]
  },
  {
   "cell_type": "markdown",
   "metadata": {},
   "source": [
    "## Import Library"
   ]
  },
  {
   "cell_type": "code",
   "execution_count": 2,
   "metadata": {},
   "outputs": [],
   "source": [
    "import numpy as np\n",
    "import cv2\n"
   ]
  },
  {
   "cell_type": "markdown",
   "metadata": {},
   "source": [
    "### haarcascade_frontalface_default.xml\n",
    "The haarcascade_frontalface_default. xml is a haar cascade designed by OpenCV to detect the frontal face. This haar cascade is available on github. A Haar Cascade works by training the cascade on thousands of negative images with the positive image superimposed on it"
   ]
  },
  {
   "cell_type": "code",
   "execution_count": 48,
   "metadata": {},
   "outputs": [],
   "source": [
    "## Step:1 make classifier object of haarcascade_frontalface_default.xml\n",
    "face_classifier = cv2.CascadeClassifier('Haar_Cascades_Classifier/haarcascade_frontalface_default.xml')\n",
    "\n",
    "# Step:2 Load image\n",
    "image = cv2.imread('image_examples/jack_ma.jpg')\n",
    "\n",
    "# Step:3 Our classifier returns the ROI of the detected face as a tuple\n",
    "# It stores the top left coordinate and the bottom right coordiantes\n",
    "faces = face_classifier.detectMultiScale(image)\n",
    "                                              \n",
    "\n",
    "# Step: 4 When no faces detected, face_classifier returns 'no faces found'\n",
    "if faces is ():\n",
    "    print(\"No faces found\")\n",
    "\n",
    "# Step 5 :Draw a rectangle over each face in faces\n",
    "for (x,y,w,h) in faces:                                                # x, y :- coordinate and w & h are width and height\n",
    "                        #initial limit, upper limit, color coordinate \n",
    "    cv2.rectangle(image, (x,y),         (x+w,y+h),    (127,0,255), 2)\n",
    "    cv2.imshow('Face Detection', image)     #show image\n",
    "    cv2.waitKey(0)          #wait time\n",
    "    \n",
    "cv2.destroyAllWindows()  #close windows"
   ]
  },
  {
   "cell_type": "markdown",
   "metadata": {},
   "source": [
    "## Try by change BGR(Blue green red ) to gray format for making process easy"
   ]
  },
  {
   "cell_type": "code",
   "execution_count": 52,
   "metadata": {},
   "outputs": [],
   "source": [
    "## Step:1 make classifier object of haarcascade_frontalface_default.xml\n",
    "face_classifier = cv2.CascadeClassifier('Haar_Cascades_Classifier/haarcascade_frontalface_default.xml')\n",
    "\n",
    "# Step:2 Load image\n",
    "image = cv2.imread('image_examples/jack_ma.jpg')\n",
    "gray = cv2.cvtColor(image, cv2.COLOR_BGR2GRAY)   ##Easy to process as it require only 1 channel i.e black n white\n",
    "\n",
    "# Step:3 Our classifier returns the ROI of the detected face as a tuple\n",
    "# It stores the top left coordinate and the bottom right coordiantes\n",
    "faces = face_classifier.detectMultiScale(gray, 1.3, 5)\n",
    "                                              ## no such require numeric values\n",
    "\n",
    "# Step: 4 When no faces detected, face_classifier returns 'no faces found'\n",
    "if faces is ():\n",
    "    print(\"No faces found\")\n",
    "\n",
    "# Step 5 :Draw a rectangle over each face in faces\n",
    "for (x,y,w,h) in faces:                                                # x, y :- coordinate and w & h are width and height\n",
    "                        #initial limit, upper limit, color coordinate \n",
    "    cv2.rectangle(image, (x,y),         (x+w,y+h),    (127,0,255), 2)\n",
    "    cv2.imshow('Face Detection', image)     #show image\n",
    "    cv2.waitKey(0)          #wait time\n",
    "    \n",
    "cv2.destroyAllWindows()  #close windows"
   ]
  },
  {
   "cell_type": "markdown",
   "metadata": {},
   "source": [
    "# Eye Detection"
   ]
  },
  {
   "cell_type": "code",
   "execution_count": 70,
   "metadata": {},
   "outputs": [],
   "source": [
    "## Step:1 make eye classifier object of haarcascade_eye.xml\n",
    "eye_classifier = cv2.CascadeClassifier('Haar_Cascades_Classifier/haarcascade_eye.xml') \n",
    "\n",
    "# Step:2 Load image\n",
    "image = cv2.imread('image_examples/sharukh.jpg')\n",
    "gray = cv2.cvtColor(image, cv2.COLOR_BGR2GRAY) ##convert to gery so Easy to process as it require only 1 channel i.e black n white\n",
    "\n",
    "# Step:3 face classifier for detection\n",
    "eyes = face_classifier.detectMultiScale(gray)\n",
    "\n",
    "# Step: 4 When no faces detected, face_classifier returns 'no faces found'\n",
    "if eyes is ():\n",
    "    print(\"No faces found\")\n",
    "\n",
    "# Step 5 :Draw a rectangle over each eyes in faces\n",
    "for (ex,ey,ew,eh) in eyes:\n",
    "    cv2.rectangle(roi_color,(ex,ey),(ex+ew,ey+eh),(255,255,0),2)\n",
    "    cv2.imshow('img',img)\n",
    "    cv2.waitKey()\n",
    "    \n",
    "cv2.destroyAllWindows()  #close window"
   ]
  },
  {
   "cell_type": "code",
   "execution_count": null,
   "metadata": {},
   "outputs": [],
   "source": []
  },
  {
   "cell_type": "markdown",
   "metadata": {},
   "source": [
    "# Face & Eye combine Detection"
   ]
  },
  {
   "cell_type": "code",
   "execution_count": 72,
   "metadata": {},
   "outputs": [],
   "source": [
    "face_classifier = cv2.CascadeClassifier('Haar_Cascades_Classifier/haarcascade_frontalface_default.xml')\n",
    "eye_classifier = cv2.CascadeClassifier('Haar_Cascades_Classifier/haarcascade_eye.xml')\n",
    " \n",
    "image = cv2.imread('image_examples/sharukh.jpg')\n",
    "gray = cv2.cvtColor(img, cv2.COLOR_BGR2GRAY)\n",
    "\n",
    "faces = face_classifier.detectMultiScale(gray, 1.3, 5)\n",
    "\n",
    "if faces is ():\n",
    "    print(\"No Face Found\")\n",
    "\n",
    "for (x,y,w,h) in faces:\n",
    "    cv2.rectangle(img,(x,y),(x+w,y+h),(127,0,255),2)\n",
    "    cv2.imshow('image',image)\n",
    "    cv2.waitKey(0)\n",
    "    roi_gray = gray[y:y+h, x:x+w]\n",
    "    roi_color = image[y:y+h, x:x+w]\n",
    "    eyes = eye_classifier.detectMultiScale(roi_gray)\n",
    "    for (ex,ey,ew,eh) in eyes:\n",
    "        cv2.rectangle(roi_color,(ex,ey),(ex+ew,ey+eh),(255,255,0),2)\n",
    "        cv2.imshow('img',img)\n",
    "        cv2.waitKey(0)\n",
    "    \n",
    "cv2.destroyAllWindows()"
   ]
  },
  {
   "cell_type": "code",
   "execution_count": null,
   "metadata": {},
   "outputs": [],
   "source": []
  },
  {
   "cell_type": "markdown",
   "metadata": {},
   "source": [
    "# Live face & eye detection"
   ]
  },
  {
   "cell_type": "code",
   "execution_count": null,
   "metadata": {},
   "outputs": [],
   "source": [
    "face_classifier = cv2.CascadeClassifier('Haar_Cascades_Classifier/haarcascade_frontalface_default.xml')\n",
    "eye_classifier = cv2.CascadeClassifier('Haar_Cascades_Classifier/haarcascade_eye.xml')\n",
    "\n",
    "def face_detector(image, size=0.5):\n",
    "    # Convert image to grayscale\n",
    "    gray = cv2.cvtColor(image,cv2.COLOR_BGR2GRAY)\n",
    "    faces = face_classifier.detectMultiScale(gray)\n",
    "    if faces is ():\n",
    "        return image\n",
    "    \n",
    "    for (x,y,w,h) in faces:\n",
    "        x = x - 50\n",
    "        w = w + 50\n",
    "        y = y - 50\n",
    "        h = h + 50\n",
    "        cv2.rectangle(image,(x,y),(x+w,y+h),(255,0,0),2)\n",
    "        roi_gray = gray[y:y+h, x:x+w]\n",
    "        roi_color = image[y:y+h, x:x+w]\n",
    "        eyes = eye_classifier.detectMultiScale(roi_gray)\n",
    "        \n",
    "        for (ex,ey,ew,eh) in eyes:\n",
    "            cv2.rectangle(roi_color,(ex,ey),(ex+ew,ey+eh),(0,0,255),2) \n",
    "            \n",
    "    roi_color = cv2.flip(roi_color,1)\n",
    "    return roi_color\n",
    "\n",
    "capture = cv2.VideoCapture(0)                 # 0  is default for laptop cam if we want to use webcam so try to use 1\n",
    "\n",
    "while True:\n",
    "\n",
    "    ret, frame = capture.read()\n",
    "    cv2.imshow('Face detector', face_detector(frame))\n",
    "    if cv2.waitKey(1) == 13: #13 is the Enter Key\n",
    "        break\n",
    "        \n",
    "capture.release()\n",
    "cv2.destroyAllWindows()      "
   ]
  },
  {
   "cell_type": "markdown",
   "metadata": {
    "collapsed": true
   },
   "source": [
    "### Tuning Cascade Classifiers\n",
    "\n",
    "*ourClassifier*.**detectMultiScale**(input image, **Scale Factor** , **Min Neighbors**)\n",
    "\n",
    "- **Scale Factor**\n",
    "Specifies how much we reduce the image size each time we scale. E.g. in face detection we typically use 1.3. This means we reduce the image by 30% each time it’s scaled. Smaller values, like 1.05 will take longer to compute, but will increase the rate of detection.\n",
    "\n",
    "\n",
    "\n",
    "- **Min Neighbors**\n",
    "Specifies the number of neighbors each potential window should have in order to consider it a positive detection. Typically set between 3-6. \n",
    "It acts as sensitivity setting, low values will sometimes detect multiples faces over a single face. High values will ensure less false positives, but you may miss some faces.  \n"
   ]
  },
  {
   "cell_type": "code",
   "execution_count": null,
   "metadata": {
    "collapsed": true
   },
   "outputs": [],
   "source": []
  },
  {
   "cell_type": "markdown",
   "metadata": {
    "collapsed": true
   },
   "source": [
    "## Face and Eye Detection  from videos\n"
   ]
  },
  {
   "cell_type": "code",
   "execution_count": null,
   "metadata": {},
   "outputs": [],
   "source": [
    "# Step:1 Loading the classifiers\n",
    "face_cascade = cv2.CascadeClassifier('Haarcascades/haarcascade_frontalface_default.xml')\n",
    "eye_cascade = cv2.CascadeClassifier('Haarcascades/haarcascade_eye.xml')\n",
    "\n",
    "# Step:2 Defining a function that will do the detections\n",
    "def detect(gray, frame):\n",
    "    faces = face_cascade.detectMultiScale(gray)\n",
    "    for (x, y, w, h) in faces:\n",
    "        cv2.rectangle(frame, (x, y), (x+w, y+h), (255, 0, 0), 2)\n",
    "        roi_gray = gray[y:y+h, x:x+w]\n",
    "        roi_color = frame[y:y+h, x:x+w]\n",
    "        eyes = eye_cascade.detectMultiScale(roi_gray, 1.1, 3)\n",
    "        for (ex, ey, ew, eh) in eyes:\n",
    "            cv2.rectangle(roi_color, (ex, ey), (ex+ew, ey+eh), (0, 255, 0), 2)\n",
    "    return frame\n",
    "\n",
    "# Step: 3 Do some Face Recognition with the webcam\n",
    "video_capture = cv2.VideoCapture(0)      # 0 will allow the intigrated webcam of laptop\n",
    "while True:\n",
    "    _, frame = video_capture.read()\n",
    "    gray = cv2.cvtColor(frame, cv2.COLOR_BGR2GRAY)\n",
    "    canvas = detect(gray, frame)\n",
    "    cv2.imshow('Video', canvas)\n",
    "    if cv2.waitKey(1) & 0xFF == ord('q'):\n",
    "        break\n",
    "video_capture.release()\n",
    "cv2.destroyAllWindows()"
   ]
  },
  {
   "cell_type": "code",
   "execution_count": null,
   "metadata": {},
   "outputs": [],
   "source": []
  }
 ],
 "metadata": {
  "kernelspec": {
   "display_name": "Python 3",
   "language": "python",
   "name": "python3"
  },
  "language_info": {
   "codemirror_mode": {
    "name": "ipython",
    "version": 3
   },
   "file_extension": ".py",
   "mimetype": "text/x-python",
   "name": "python",
   "nbconvert_exporter": "python",
   "pygments_lexer": "ipython3",
   "version": "3.7.3"
  }
 },
 "nbformat": 4,
 "nbformat_minor": 1
}
