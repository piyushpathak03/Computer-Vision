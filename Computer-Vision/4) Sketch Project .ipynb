{
 "cells": [
  {
   "cell_type": "markdown",
   "metadata": {},
   "source": [
    "### Import Library"
   ]
  },
  {
   "cell_type": "code",
   "execution_count": 9,
   "metadata": {},
   "outputs": [],
   "source": [
    "import cv2\n",
    "from matplotlib import pyplot as plt\n",
    "import numpy as np"
   ]
  },
  {
   "cell_type": "markdown",
   "metadata": {},
   "source": [
    "# Gaussian Blurring\n",
    "In this, instead of box filter, gaussian kernel is used.\n",
    "\n",
    "We use the function: cv.GaussianBlur (src, dst, ksize, sigmaX, sigmaY = 0, borderType = cv.BORDER_DEFAULT)\n",
    "\n",
    "### Parameters\n",
    "1. src\t:- input image; the image can have any number of channels, which are processed independently, but the depth should be CV_8U, CV_16U, CV_16S, CV_32F or CV_64F.\n",
    "2. dst\t:- output image of the same size and type as src.\n",
    "3. ksize :-blurring kernel size.\n",
    "4. sigmaX :-Gaussian kernel standard deviation in X direction.\n",
    "5. sigmaY:-Gaussian kernel standard deviation in Y direction; if sigmaY is zero, it is set to be equal to sigmaX, if both sigmas are zeros, they are computed from ksize.width and ksize.height, to fully control the result regardless of possible future modifications of all this semantics, it is recommended to specify all of ksize, sigmaX, and sigmaY.\n",
    "6. borderType :-pixel extrapolation method(see cv.BorderTypes)."
   ]
  },
  {
   "cell_type": "markdown",
   "metadata": {},
   "source": [
    "## Define manual sketch fun"
   ]
  },
  {
   "cell_type": "code",
   "execution_count": 10,
   "metadata": {},
   "outputs": [],
   "source": [
    "def sketch(image):\n",
    "    gray = cv2.cvtColor(image, cv2.COLOR_BGR2GRAY)     #convert BGR into gray\n",
    "    gaussian_blur = cv2.GaussianBlur(gray, (7,7), 0)    #Gaussianblur convert image into a sketch\n",
    "    canny = cv2.Canny(gaussian_blur, 10, 80)\n",
    "    _, mask = canny_inverted = cv2.threshold(canny, 30, 255, cv2.THRESH_BINARY_INV)\n",
    "    return mask"
   ]
  },
  {
   "cell_type": "code",
   "execution_count": 11,
   "metadata": {},
   "outputs": [],
   "source": [
    "capture = cv2.VideoCapture(0)\n",
    "cv2.destroyAllWindows()\n",
    "\n",
    "while True:\n",
    "    _, im0 = capture.read()\n",
    "    showCrosshair = False\n",
    "    fromCenter = False\n",
    "    r = cv2.selectROI(\"Image\", im0, fromCenter, showCrosshair)\n",
    "    break\n",
    "    \n",
    "while True:   \n",
    "    _, image_frame = capture.read()\n",
    "    \n",
    "    rect_img = image_frame[int(r[1]):int(r[1]+r[3]), int(r[0]):int(r[0]+r[2])]\n",
    "    \n",
    "    sketcher_rect = rect_img\n",
    "    sketcher_rect = sketch(sketcher_rect)\n",
    "    \n",
    "    #Conversion for 3 channels to put back on original image (streaming)\n",
    "    sketcher_rect_rgb = cv2.cvtColor(sketcher_rect, cv2.COLOR_GRAY2RGB)\n",
    "    \n",
    "    #Replacing the sketched image on Region of Interest\n",
    "    image_frame[int(r[1]):int(r[1]+r[3]), int(r[0]):int(r[0]+r[2])] = sketcher_rect_rgb\n",
    "    \n",
    "    cv2.imshow(\"Sketcher ROI\", image_frame)\n",
    "    \n",
    "    if cv2.waitKey(1) & 0xFF == ord('q'):\n",
    "        break\n",
    "        \n",
    "capture.release()\n",
    "cv2.destroyAllWindows()"
   ]
  },
  {
   "cell_type": "markdown",
   "metadata": {},
   "source": [
    "### Capture image and draw a rectangle from webcam and enjoy the sketch process."
   ]
  },
  {
   "cell_type": "code",
   "execution_count": null,
   "metadata": {},
   "outputs": [],
   "source": []
  }
 ],
 "metadata": {
  "kernelspec": {
   "display_name": "Python 3",
   "language": "python",
   "name": "python3"
  },
  "language_info": {
   "codemirror_mode": {
    "name": "ipython",
    "version": 3
   },
   "file_extension": ".py",
   "mimetype": "text/x-python",
   "name": "python",
   "nbconvert_exporter": "python",
   "pygments_lexer": "ipython3",
   "version": "3.7.3"
  }
 },
 "nbformat": 4,
 "nbformat_minor": 2
}
