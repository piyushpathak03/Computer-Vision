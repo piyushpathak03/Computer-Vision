{
 "cells": [
  {
   "cell_type": "markdown",
   "metadata": {},
   "source": [
    "# Basic fun of OpenCv:- Read, write & display images"
   ]
  },
  {
   "cell_type": "markdown",
   "metadata": {},
   "source": [
    "# Open CV:\n",
    "\n",
    "OpenCV (Open Source Computer Vision Library) is an open source computer vision and machine learning software library. OpenCV was built to provide a common infrastructure for computer vision applications and to accelerate the use of machine perception in the commercial products. Being a BSD-licensed product, OpenCV makes it easy for businesses to utilize and modify the code.\n",
    "\n",
    "The library has more than 2500 optimized algorithms, which includes a comprehensive set of both classic and state-of-the-art computer vision and machine learning algorithms. These algorithms can be used to detect and recognize faces, identify objects, classify human actions in videos, track camera movements, track moving objects, extract 3D models of objects, produce 3D point clouds from stereo cameras, stitch images together to produce a high resolution image of an entire scene, find similar images from an image database, remove red eyes from images taken using flash, follow eye movements, recognize scenery and establish markers to overlay it with augmented reality, etc. OpenCV has more than 47 thousand people of user community and estimated number of downloads exceeding 18 million. The library is used extensively in companies, research groups and by governmental bodies."
   ]
  },
  {
   "cell_type": "markdown",
   "metadata": {},
   "source": [
    "### Install Library"
   ]
  },
  {
   "cell_type": "code",
   "execution_count": 1,
   "metadata": {},
   "outputs": [
    {
     "name": "stdout",
     "output_type": "stream",
     "text": [
      "Collecting opencv-python\n",
      "  Downloading https://files.pythonhosted.org/packages/85/17/bad54f67bbe27d88ba520c3f59315e95b4e254cd28767c20accacb0597d8/opencv_python-4.2.0.34-cp37-cp37m-win_amd64.whl (33.0MB)\n",
      "Requirement already satisfied: numpy>=1.14.5 in c:\\users\\hp\\anaconda3\\lib\\site-packages (from opencv-python) (1.16.4)\n",
      "Installing collected packages: opencv-python\n",
      "Successfully installed opencv-python-4.2.0.34\n",
      "Note: you may need to restart the kernel to use updated packages.\n"
     ]
    }
   ],
   "source": [
    "pip install opencv-python"
   ]
  },
  {
   "cell_type": "markdown",
   "metadata": {},
   "source": [
    "## import necessary libaries "
   ]
  },
  {
   "cell_type": "code",
   "execution_count": 1,
   "metadata": {},
   "outputs": [],
   "source": [
    "import cv2\n",
    "from pyforest import*"
   ]
  },
  {
   "cell_type": "markdown",
   "metadata": {},
   "source": [
    "## Load Black n white image"
   ]
  },
  {
   "cell_type": "code",
   "execution_count": 2,
   "metadata": {},
   "outputs": [],
   "source": [
    "# Use'imread' to load image\n",
    "bnk_image = cv2.imread('./image_examples/black_n_white.jpg')    #We can load any format image like png,jpg\n",
    "\n",
    "# Use 'imshow' to display image variable, \n",
    "cv2.imshow('Black n white Image', bnk_image)\n",
    "          # Title       #image variable\n",
    "\n",
    "# 'waitKey' allows us to input information when a image window is open\n",
    "cv2.waitKey() \n",
    "# By leaving it blank it just waits for anykey to be pressed before continuing. By placing numbers (except 0), we can specify a delay for how long you keep the window open (time is in milliseconds here)\n",
    "\n",
    "\n",
    "# Failure to place this will cause your program to hang\n",
    "cv2.destroyAllWindows() # This closes all open windows "
   ]
  },
  {
   "cell_type": "markdown",
   "metadata": {},
   "source": [
    "### Check Shape of a Black n white  image"
   ]
  },
  {
   "cell_type": "code",
   "execution_count": 3,
   "metadata": {},
   "outputs": [
    {
     "name": "stdout",
     "output_type": "stream",
     "text": [
      "shape: (1236, 1600, 3)\n",
      "Height of Image: 1236 pixels\n",
      "Width of Image:  1600 pixels\n"
     ]
    }
   ],
   "source": [
    "print('shape:', bnk_image.shape)\n",
    "print('Height of Image:', int(bnk_image.shape[0]), 'pixels')\n",
    "print('Width of Image: ', int(bnk_image.shape[1]), 'pixels')\n",
    "\n",
    "## 3 Means RGB :- Red,Green and blue all three colors are used here to just create the image coz this is not a pure black n white image"
   ]
  },
  {
   "cell_type": "markdown",
   "metadata": {},
   "source": [
    "## Load coloured image"
   ]
  },
  {
   "cell_type": "code",
   "execution_count": 8,
   "metadata": {},
   "outputs": [],
   "source": [
    "# Use'imread' to load image\n",
    "image = cv2.imread('./image_examples/Lion.jpg')\n",
    "\n",
    "# Use 'imshow' to display image variable, \n",
    "cv2.imshow('Lion Image', image)\n",
    "          # Title       #image variable\n",
    "\n",
    "# 'waitKey' allows us to input information when a image window is open\n",
    "cv2.waitKey() \n",
    "# By leaving it blank it just waits for anykey to be pressed before continuing. By placing numbers (except 0), we can specify a delay for how long you keep the window open (time is in milliseconds here)\n",
    "\n",
    "\n",
    "# Failure to place this will cause your program to hang\n",
    "cv2.destroyAllWindows() # This closes all open windows "
   ]
  },
  {
   "cell_type": "markdown",
   "metadata": {},
   "source": [
    "### Check Shape of a coloured image"
   ]
  },
  {
   "cell_type": "code",
   "execution_count": 13,
   "metadata": {},
   "outputs": [
    {
     "name": "stdout",
     "output_type": "stream",
     "text": [
      "shape: (1425, 1000, 3)\n",
      "Height of Image: 1425 pixels\n",
      "Width of Image:  1000 pixels\n"
     ]
    }
   ],
   "source": [
    "print('shape:', image.shape)\n",
    "print('Height of Image:', int(image.shape[0]), 'pixels')\n",
    "print('Width of Image: ', int(image.shape[1]), 'pixels')\n",
    "\n",
    "## 3 Means RGB :- Red,Green and blue all three colors are used here to just create the image"
   ]
  },
  {
   "cell_type": "markdown",
   "metadata": {},
   "source": [
    "### Save the images"
   ]
  },
  {
   "cell_type": "code",
   "execution_count": 14,
   "metadata": {},
   "outputs": [
    {
     "data": {
      "text/plain": [
       "True"
      ]
     },
     "execution_count": 14,
     "metadata": {},
     "output_type": "execute_result"
    }
   ],
   "source": [
    "# Use 'imwrite' specificing the file name and the image to be saved\n",
    "cv2.imwrite('output.jpg', image)\n",
    "cv2.imwrite('output.png', image)    # we can write or save any image in any format"
   ]
  },
  {
   "cell_type": "code",
   "execution_count": null,
   "metadata": {},
   "outputs": [],
   "source": []
  }
 ],
 "metadata": {
  "kernelspec": {
   "display_name": "Python 3",
   "language": "python",
   "name": "python3"
  },
  "language_info": {
   "codemirror_mode": {
    "name": "ipython",
    "version": 3
   },
   "file_extension": ".py",
   "mimetype": "text/x-python",
   "name": "python",
   "nbconvert_exporter": "python",
   "pygments_lexer": "ipython3",
   "version": "3.7.3"
  }
 },
 "nbformat": 4,
 "nbformat_minor": 1
}
