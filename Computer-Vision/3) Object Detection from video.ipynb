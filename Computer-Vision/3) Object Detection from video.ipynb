{
 "cells": [
  {
   "cell_type": "markdown",
   "metadata": {},
   "source": [
    "## Car & Pedestrian Detection\n",
    "\n"
   ]
  },
  {
   "cell_type": "code",
   "execution_count": 1,
   "metadata": {},
   "outputs": [],
   "source": [
    "## Import libraries"
   ]
  },
  {
   "cell_type": "code",
   "execution_count": 4,
   "metadata": {},
   "outputs": [],
   "source": [
    "import cv2\n",
    "import time\n",
    "import numpy as np"
   ]
  },
  {
   "cell_type": "markdown",
   "metadata": {},
   "source": [
    "# Pedistrian Detection"
   ]
  },
  {
   "cell_type": "code",
   "execution_count": 3,
   "metadata": {},
   "outputs": [],
   "source": [
    "# Step:1  Create Cascade classifier\n",
    "classifier = cv2.CascadeClassifier('Haar_Cascades_Classifier\\haarcascade_fullbody.xml')\n",
    "\n",
    "# Step:2 Initiate video for video file\n",
    "capture = cv2.VideoCapture('image_examples/walking.avi')\n",
    "\n",
    "# Step:3 Apply Loop after video load\n",
    "while capture.isOpened():\n",
    "    \n",
    "    # Read first frame\n",
    "    ret, frame = capture.read()\n",
    "    #frame = cv2.resize(frame, None,fx=0.5, fy=0.5, interpolation = cv2.INTER_LINEAR)\n",
    "\n",
    "    gray = cv2.cvtColor(frame, cv2.COLOR_BGR2GRAY)    #convert BGR to gray color\n",
    "    # Step: 4 Pass frame to our body classifier\n",
    "    body = classifier.detectMultiScale(gray, 1.2, 3)\n",
    "    \n",
    "    # Step:5 Create rectangles for any bodies identified\n",
    "    for (x,y,w,h) in body:\n",
    "        cv2.rectangle(frame, (x, y), (x+w, y+h), (0, 255, 255), 2)\n",
    "        cv2.imshow('Pedestrians', frame)\n",
    "\n",
    "    if cv2.waitKey(1) == 13: #13 is the Enter Key\n",
    "        break\n",
    "\n",
    "capture.release()\n",
    "cv2.destroyAllWindows()     #close window"
   ]
  },
  {
   "cell_type": "code",
   "execution_count": null,
   "metadata": {},
   "outputs": [],
   "source": []
  },
  {
   "cell_type": "markdown",
   "metadata": {},
   "source": [
    "# Car Detection\n"
   ]
  },
  {
   "cell_type": "code",
   "execution_count": 6,
   "metadata": {},
   "outputs": [],
   "source": [
    "# Step:1  Create Cascade classifier\n",
    "car = cv2.CascadeClassifier('Haar_Cascades_Classifier\\haarcascade_car.xml')\n",
    "\n",
    "# Step:2 Initiate video for video file\n",
    "capture = cv2.VideoCapture('image_examples/cars.avi')\n",
    "\n",
    "\n",
    "# Step:3 Apply Loop after video load\n",
    "while capture.isOpened():\n",
    "    \n",
    "    time.sleep(.05)\n",
    "    # Read first frame\n",
    "    ret, frame = capture.read()\n",
    "    gray = cv2.cvtColor(frame, cv2.COLOR_BGR2GRAY)   #convert BGR to gray color\n",
    "   \n",
    "     # Step: 4 Pass frame to our body classifier\n",
    "    cars = car.detectMultiScale(gray, 1.4, 2)\n",
    "    \n",
    "# Step:5 Create rectangles for any bodies identified\n",
    "    for (x,y,w,h) in cars:\n",
    "        cv2.rectangle(frame, (x, y), (x+w, y+h), (0, 255, 255), 2)\n",
    "        cv2.imshow('Cars', frame)\n",
    "\n",
    "    if cv2.waitKey(1) == 13: #13 is the Enter Key\n",
    "        break\n",
    "\n",
    "capture.release()\n",
    "cv2.destroyAllWindows()           #close window "
   ]
  }
 ],
 "metadata": {
  "kernelspec": {
   "display_name": "Python 3",
   "language": "python",
   "name": "python3"
  },
  "language_info": {
   "codemirror_mode": {
    "name": "ipython",
    "version": 3
   },
   "file_extension": ".py",
   "mimetype": "text/x-python",
   "name": "python",
   "nbconvert_exporter": "python",
   "pygments_lexer": "ipython3",
   "version": "3.7.3"
  }
 },
 "nbformat": 4,
 "nbformat_minor": 1
}
